{
 "cells": [
  {
   "cell_type": "code",
   "execution_count": null,
   "metadata": {},
   "outputs": [],
   "source": [
    "import re\n",
    "import requests\n",
    "import random\n",
    "\n",
    "SOURCES = [\n",
    "    \"https://t.me/s/warpplus\",\n",
    "    \"https://t.me/s/warppluscn\"\n",
    "]\n",
    "\n",
    "PATTERN = re.compile(r\"<code>([A-Za-z0-9-]+)</code>\")\n",
    "\n",
    "def main():\n",
    "    keys = set()\n",
    "\n",
    "    for url in SOURCES:\n",
    "        print(f\"Currently searching in {url}...\")\n",
    "        response = requests.get(url)\n",
    "        response.raise_for_status()\n",
    "        body = response.text\n",
    "\n",
    "        for match in PATTERN.finditer(body):\n",
    "            key = match.group(1)\n",
    "            keys.add(key)\n",
    "\n",
    "    with open(\"full.txt\", \"w\") as full_file, open(\"lite.txt\", \"w\") as lite_file:\n",
    "        keys_list = list(keys)\n",
    "        if keys_list:\n",
    "            print(\"Selecting keys...\")\n",
    "            full_keys = random.sample(keys_list, min(150, len(keys_list)))\n",
    "            lite_keys = random.sample(keys_list, min(75, len(keys_list)))\n",
    "\n",
    "            full_file.write(\"\\n\".join(full_keys) + \"\\n\")\n",
    "            lite_file.write(\"\\n\".join(lite_keys) + \"\\n\")\n",
    "\n",
    "if __name__ == \"__main__\":\n",
    "    main()\n"
   ]
  },
  {
   "cell_type": "code",
   "execution_count": null,
   "metadata": {},
   "outputs": [],
   "source": []
  }
 ],
 "metadata": {
  "language_info": {
   "name": "python"
  }
 },
 "nbformat": 4,
 "nbformat_minor": 2
}
