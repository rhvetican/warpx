{
 "cells": [
  {
   "cell_type": "code",
   "execution_count": 2,
   "metadata": {},
   "outputs": [
    {
     "name": "stdout",
     "output_type": "stream",
     "text": [
      "Currently searching in https://t.me/s/warpplus...\n",
      "Currently searching in https://t.me/s/warppluscn...\n",
      "Selecting keys...\n",
      "Keys generated: 150 for full.txt and 75 for lite.txt.\n"
     ]
    }
   ],
   "source": [
    "import re\n",
    "import requests\n",
    "import random\n",
    "\n",
    "SOURCES = [\n",
    "    \"https://t.me/s/warpplus\",\n",
    "    \"https://t.me/s/warppluscn\"\n",
    "]\n",
    "\n",
    "PATTERN = re.compile(r\"<code>([A-Za-z0-9-]+)</code>\")\n",
    "\n",
    "def main():\n",
    "    keys = set()\n",
    "\n",
    "    for url in SOURCES:\n",
    "        print(f\"Currently searching in {url}...\")\n",
    "        response = requests.get(url)\n",
    "        response.raise_for_status()\n",
    "        body = response.text\n",
    "\n",
    "        for match in PATTERN.finditer(body):\n",
    "            key = match.group(1)\n",
    "            keys.add(key)\n",
    "\n",
    "    with open(\"full.txt\", \"w\") as full_file, open(\"lite.txt\", \"w\") as lite_file:\n",
    "        keys_list = list(keys)\n",
    "        if keys_list:\n",
    "            print(\"Selecting keys...\")\n",
    "            full_keys = random.sample(keys_list, min(150, len(keys_list)))\n",
    "            lite_keys = random.sample(keys_list, min(75, len(keys_list)))\n",
    "\n",
    "            full_file.write(\"\\n\".join(full_keys) + \"\\n\")\n",
    "            lite_file.write(\"\\n\".join(lite_keys) + \"\\n\")\n",
    "\n",
    "            # Complete the message indicating keys have been generated\n",
    "            print(f\"Keys generated: {len(full_keys)} for full.txt and {len(lite_keys)} for lite.txt.\")\n",
    "\n",
    "if __name__ == \"__main__\":\n",
    "    main()\n"
   ]
  },
  {
   "cell_type": "code",
   "execution_count": null,
   "metadata": {},
   "outputs": [],
   "source": []
  }
 ],
 "metadata": {
  "kernelspec": {
   "display_name": "Python 3 (ipykernel)",
   "language": "python",
   "name": "python3"
  },
  "language_info": {
   "codemirror_mode": {
    "name": "ipython",
    "version": 3
   },
   "file_extension": ".py",
   "mimetype": "text/x-python",
   "name": "python",
   "nbconvert_exporter": "python",
   "pygments_lexer": "ipython3",
   "version": "3.10.11"
  }
 },
 "nbformat": 4,
 "nbformat_minor": 4
}
